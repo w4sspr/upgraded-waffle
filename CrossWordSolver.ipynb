{
 "cells": [
  {
   "cell_type": "markdown",
   "source": [
    " Import statements"
   ],
   "metadata": {
    "collapsed": false
   },
   "id": "9ddb53accf76a1e2"
  },
  {
   "cell_type": "code",
   "execution_count": 16,
   "outputs": [],
   "source": [
    "import cv2\n",
    "from pytesseract import image_to_string\n",
    "from PIL import Image\n",
    "import numpy as np"
   ],
   "metadata": {
    "collapsed": false,
    "ExecuteTime": {
     "end_time": "2023-09-13T04:54:54.807513Z",
     "start_time": "2023-09-13T04:54:54.797420Z"
    }
   },
   "id": "initial_id"
  },
  {
   "cell_type": "markdown",
   "source": [
    "This bit separates the crossword itself from the screenshot as grid.png"
   ],
   "metadata": {
    "collapsed": false
   },
   "id": "139d6f6a1ddd324a"
  },
  {
   "cell_type": "code",
   "execution_count": 8,
   "outputs": [
    {
     "name": "stdout",
     "output_type": "stream",
     "text": [
      "(32, 25, 730, 735)\n"
     ]
    }
   ],
   "source": [
    "#Where is our image?\n",
    "image_path = 'Screenshot.png'\n",
    "\n",
    "#Preparing for cropping\n",
    "im = cv2.imread(image_path)\n",
    "im = cv2.cvtColor(im, cv2.COLOR_BGR2GRAY)\n",
    "im = cv2.GaussianBlur(im, (5, 5), 0)\n",
    "im = cv2.adaptiveThreshold(im, 255, cv2.ADAPTIVE_THRESH_GAUSSIAN_C, cv2.THRESH_BINARY, 9, 4)\n",
    "cv2.imwrite(\"preprocess.jpg\", im)\n",
    "\n",
    "# Grid is the largest contour\n",
    "contours, _ = cv2.findContours(im, cv2.RETR_LIST, cv2.CHAIN_APPROX_SIMPLE)\n",
    "max_area = -1\n",
    "max_idx = -1\n",
    "for i, contour in enumerate(contours):\n",
    "    area = cv2.contourArea(contour)\n",
    "    if max_area < area < (im.shape[0] * im.shape[1] / 2):\n",
    "        max_area = area\n",
    "        max_idx = i\n",
    "\n",
    "#Saving grid.png\n",
    "rect = cv2.boundingRect(contours[max_idx])\n",
    "print(rect)\n",
    "Image.open(image_path).crop((rect[0], rect[1], rect[0] + rect[2], rect[1] + rect[3])).save(\"grid.png\")\n"
   ],
   "metadata": {
    "collapsed": false,
    "ExecuteTime": {
     "end_time": "2023-09-13T02:47:51.649598Z",
     "start_time": "2023-09-13T02:47:51.510346Z"
    }
   },
   "id": "c2c60e5341d3f90f"
  },
  {
   "cell_type": "markdown",
   "source": [
    "Crossword hint extraction"
   ],
   "metadata": {
    "collapsed": false
   },
   "id": "14ba1cbda74ca2c7"
  },
  {
   "cell_type": "code",
   "execution_count": null,
   "outputs": [],
   "source": [
    "def extract_hints_from_image(image_path):\n",
    "    # Load the image\n",
    "    image = cv2.imread(image_path)\n",
    "    \n",
    "    # Convert the image to grayscale for OCR\n",
    "    gray = cv2.cvtColor(image, cv2.COLOR_BGR2GRAY)\n",
    "    \n",
    "    # Use pytesseract to extract text from the image\n",
    "    extracted_text = str(image_to_string(gray))\n",
    "    \n",
    "    # Only consider text after \"Prize crossword\"\n",
    "    if \"Prize crossword\" in extracted_text:\n",
    "        extracted_text = extracted_text.split(\"Prize crossword\")[1].strip()\n",
    "    \n",
    "    # Split the text based on 'Across' and 'Down' to separate the hints\n",
    "    across_hints, down_hints = extracted_text.split(\"DOWN\")\n",
    "    across_hints = across_hints.replace(\"ACROSS\", \"\").strip()\n",
    "\n",
    "    return across_hints, down_hints\n",
    "\n",
    "extract_hints_from_image(image_path)"
   ],
   "metadata": {
    "collapsed": false
   },
   "id": "ed525839a2f78cff"
  },
  {
   "cell_type": "markdown",
   "source": [
    "This bit finds the green squares and gets coordinates for them"
   ],
   "metadata": {
    "collapsed": false
   },
   "id": "237a96f11c7927f6"
  },
  {
   "cell_type": "code",
   "execution_count": 15,
   "outputs": [
    {
     "name": "stdout",
     "output_type": "stream",
     "text": [
      "<class 'list'>\n",
      "[(308, 703), (85, 591), (587, 422), (252, 254), (29, 29)]\n"
     ]
    },
    {
     "data": {
      "text/plain": "[(308, 703), (85, 591), (587, 422), (252, 254), (29, 29)]"
     },
     "execution_count": 15,
     "metadata": {},
     "output_type": "execute_result"
    }
   ],
   "source": [
    "crossword_path = 'grid.png'\n",
    "\n",
    "def detect_green_squares_and_overlay(crossword_path):\n",
    "    # Load the image\n",
    "    image = cv2.imread(crossword_path)\n",
    "    \n",
    "    # Convert to HSV for color-based detection\n",
    "    hsv = cv2.cvtColor(image, cv2.COLOR_BGR2HSV)\n",
    "    \n",
    "    # Define range for green color\n",
    "    lower_green = (40, 25, 25)\n",
    "    upper_green = (45, 255,255)\n",
    "\n",
    "    \n",
    "    # Threshold the HSV image to get only green colors\n",
    "    mask = cv2.inRange(hsv, lower_green, upper_green)\n",
    "    \n",
    "    # Convert the binary mask to a 3-channel image\n",
    "    mask_colored = cv2.cvtColor(mask, cv2.COLOR_GRAY2BGR)\n",
    "    \n",
    "    # Overlay the mask on the original image\n",
    "    alpha = 0.5  # Define the opacity for overlay\n",
    "    overlay = cv2.addWeighted(image, 1 - alpha, mask_colored, alpha, 0)\n",
    "    \n",
    "    # Find contours to detect squares\n",
    "    contours, _ = cv2.findContours(mask, cv2.RETR_EXTERNAL, cv2.CHAIN_APPROX_SIMPLE)\n",
    "    \n",
    "    # Placeholder list to store positions of green squares\n",
    "    positions = []\n",
    "    \n",
    "    for contour in contours:\n",
    "        # Compute the center of the contour\n",
    "        M = cv2.moments(contour)\n",
    "        if M[\"m00\"] != 0:\n",
    "            cX = int(M[\"m10\"] / M[\"m00\"])\n",
    "            cY = int(M[\"m01\"] / M[\"m00\"])\n",
    "            \n",
    "            # Ignore the center element (based on contour area, adjust the threshold as needed)\n",
    "            if cv2.contourArea(contour) < 5000:  # 5000 is an example threshold, adjust as necessary\n",
    "                positions.append((cX, cY))\n",
    "                \n",
    "                # Draw a circle at the detected position on the overlay\n",
    "                cv2.circle(overlay, (cX, cY), 5, (0, 0, 255), -1)  # Drawing in red for visibility\n",
    "\n",
    "    # Display the overlay\n",
    "    cv2.imshow(\"Overlay\", overlay)\n",
    "    cv2.waitKey(0)\n",
    "    cv2.destroyAllWindows()\n",
    "    \n",
    "    print(type(positions))\n",
    "    print(positions)\n",
    "    return positions\n",
    "    \n",
    "\n",
    "detect_green_squares_and_overlay(crossword_path)\n",
    "\n"
   ],
   "metadata": {
    "collapsed": false,
    "ExecuteTime": {
     "end_time": "2023-09-13T04:04:52.267261Z",
     "start_time": "2023-09-13T04:04:51.455303Z"
    }
   },
   "id": "d6dd8abda495274b"
  },
  {
   "cell_type": "markdown",
   "source": [
    "This bit attempts to get a text representation of the crossword grid"
   ],
   "metadata": {
    "collapsed": false
   },
   "id": "86337023c13c32e8"
  },
  {
   "cell_type": "code",
   "execution_count": 24,
   "outputs": [
    {
     "name": "stdout",
     "output_type": "stream",
     "text": [
      "(1)O(12)OO(13)X(4)OOOOO\n",
      "OXOXX(17)OOXOXOO\n",
      "(8)OOOOOXOXOOOO\n",
      "OXXOXOXOXOXOO\n",
      "XOXOOOOO(1)OXOO\n",
      "(1)OOOOXXXOOOOO\n",
      "XOXXOXXXOXXOO\n",
      "OOO(4)OXXX(14)OOOO\n",
      "XOXOOOOOOOXOO\n",
      "XOXOXOXOXOXXO\n",
      "OOOOXOX(9)OOOOO\n",
      "XOXOXOOOXXOOO\n",
      "OOOOOOXOOOOOO\n"
     ]
    }
   ],
   "source": [
    "import pytesseract\n",
    "import cv2\n",
    "import numpy as np\n",
    "\n",
    "# Load the image and parameters\n",
    "grid_img = cv2.imread('grid.png', cv2.IMREAD_COLOR)\n",
    "# Crop 3 pixels off every side\n",
    "grid_img = grid_img[3:-3, 3:-3]\n",
    "grid_img = cv2.cvtColor(grid_img, cv2.COLOR_BGR2RGB)\n",
    "num_rows = 13\n",
    "num_cols = 13\n",
    "cell_height = grid_img.shape[0] // num_rows\n",
    "cell_width = grid_img.shape[1] // num_cols\n",
    "positions = [(308, 703), (85, 591), (587, 422), (252, 254), (29, 29)]\n",
    "\n",
    "# Extract cells from the image\n",
    "cells = [[grid_img[i*cell_height:(i+1)*cell_height, j*cell_width:(j+1)*cell_width] \n",
    "          for j in range(num_cols)] for i in range(num_rows)]\n",
    "\n",
    "# Functions\n",
    "def is_black(cell):\n",
    "    avg_color = np.mean(cell)\n",
    "    return avg_color < 50\n",
    "\n",
    "def potential_number_cell(cell):\n",
    "    gray = cv2.cvtColor(cell, cv2.COLOR_RGB2GRAY)\n",
    "    thresholded = cv2.threshold(gray, 120, 255, cv2.THRESH_BINARY_INV)[1]\n",
    "    contours, _ = cv2.findContours(thresholded, cv2.RETR_EXTERNAL, cv2.CHAIN_APPROX_SIMPLE)\n",
    "    for contour in contours:\n",
    "        if cv2.contourArea(contour) > 50:\n",
    "            return True\n",
    "    return False\n",
    "\n",
    "def extract_number(cell):\n",
    "    resized_cell = cv2.resize(cell, (cell.shape[1] * 3, cell.shape[0] * 3), interpolation=cv2.INTER_LINEAR)\n",
    "    gray = cv2.cvtColor(resized_cell, cv2.COLOR_RGB2GRAY)\n",
    "    thresholded = cv2.threshold(gray, 120, 255, cv2.THRESH_BINARY_INV)[1]\n",
    "    kernel = np.ones((3, 3), np.uint8)\n",
    "    dilated = cv2.dilate(thresholded, kernel, iterations=1)\n",
    "    number = pytesseract.image_to_string(dilated, config='--psm 6').strip()\n",
    "    return number if number.isdigit() else None\n",
    "\n",
    "def crop_cell_border(cell, percentage=8):  # Changed to 4%\n",
    "    h, w, _ = cell.shape\n",
    "    vertical_crop = int(h * percentage / 100)\n",
    "    horizontal_crop = int(w * percentage / 100)\n",
    "    return cell[vertical_crop:-vertical_crop, horizontal_crop:-horizontal_crop]\n",
    "\n",
    "# Refine potential number-containing cells\n",
    "refined_potential_number_cells = []\n",
    "for i in range(num_rows):\n",
    "    for j in range(num_cols):\n",
    "        cell = cells[i][j]\n",
    "        if 5 <= i <= 7 and 5 <= j <= 7 or is_black(cell):\n",
    "            continue\n",
    "        if potential_number_cell(cell):\n",
    "            refined_potential_number_cells.append((i, j, cell))\n",
    "import pytesseract\n",
    "import cv2\n",
    "import numpy as np\n",
    "\n",
    "# Load the image and parameters\n",
    "grid_img = cv2.imread('grid.png', cv2.IMREAD_COLOR)\n",
    "# Crop 3 pixels off every side\n",
    "grid_img = grid_img[3:-3, 3:-3]\n",
    "grid_img = cv2.cvtColor(grid_img, cv2.COLOR_BGR2RGB)\n",
    "num_rows = 13\n",
    "num_cols = 13\n",
    "cell_height = grid_img.shape[0] // num_rows\n",
    "cell_width = grid_img.shape[1] // num_cols\n",
    "positions = [(308, 703), (85, 591), (587, 422), (252, 254), (29, 29)]\n",
    "\n",
    "# Extract cells from the image\n",
    "cells = [[grid_img[i*cell_height:(i+1)*cell_height, j*cell_width:(j+1)*cell_width] \n",
    "          for j in range(num_cols)] for i in range(num_rows)]\n",
    "\n",
    "# Functions\n",
    "def is_black(cell):\n",
    "    avg_color = np.mean(cell)\n",
    "    return avg_color < 50\n",
    "\n",
    "def extract_number_from_corner(cell):\n",
    "    # Crop the top-left portion (considering it's about 1/3rd of the cell size)\n",
    "    corner = cell[:cell_height//3, :cell_width//3]\n",
    "    resized_corner = cv2.resize(corner, (corner.shape[1] * 3, corner.shape[0] * 3), interpolation=cv2.INTER_LINEAR)\n",
    "    gray = cv2.cvtColor(resized_corner, cv2.COLOR_RGB2GRAY)\n",
    "    thresholded = cv2.threshold(gray, 120, 255, cv2.THRESH_BINARY_INV)[1]\n",
    "    number = pytesseract.image_to_string(thresholded, config='--psm 6').strip()\n",
    "    return number if number.isdigit() else None\n",
    "\n",
    "# Extract numbers from the top-left corner of the cell\n",
    "number_data = {}\n",
    "for i in range(num_rows):\n",
    "    for j in range(num_cols):\n",
    "        cell = cells[i][j]\n",
    "        number = extract_number_from_corner(cell)\n",
    "        if number:\n",
    "            number_data[(i, j)] = number\n",
    "\n",
    "# Create the final textual representation\n",
    "crossword_textual_final = []\n",
    "for i in range(num_rows):\n",
    "    row_representation = []\n",
    "    for j in range(num_cols):\n",
    "        cell = cells[i][j]\n",
    "        cell_center = (j * cell_width + cell_width // 2, i * cell_height + cell_height // 2)\n",
    "        if 5 <= i <= 7 and 5 <= j <= 7:\n",
    "            row_representation.append('X')\n",
    "        elif cell_center in positions:\n",
    "            if (i, j) in number_data:\n",
    "                row_representation.append(f\"({number_data[(i, j)]}G)\")\n",
    "            else:\n",
    "                row_representation.append('G')\n",
    "        elif is_black(cell):\n",
    "            row_representation.append('X')\n",
    "        elif (i, j) in number_data:\n",
    "            row_representation.append(f\"({number_data[(i, j)]})\")\n",
    "        else:\n",
    "            row_representation.append('O')\n",
    "    crossword_textual_final.append(\"\".join(row_representation))\n",
    "\n",
    "crossword_textual_representation_final = \"\\n\".join(crossword_textual_final)\n",
    "print(crossword_textual_representation_final)\n",
    "\n",
    "\n",
    "# Extract numbers with 4% border cropping\n",
    "number_data_cropped_4 = {}  # Changed variable name for clarity\n",
    "for i, j, cell in refined_potential_number_cells:\n",
    "    cropped_cell = crop_cell_border(cell)\n",
    "    number = extract_number(cropped_cell)\n",
    "    if number:\n",
    "        number_data_cropped_4[(i, j)] = number\n",
    "\n",
    "# Create the final textual representation\n",
    "crossword_textual_final = []\n",
    "for i in range(num_rows):\n",
    "    row_representation = []\n",
    "    for j in range(num_cols):\n",
    "        cell = cells[i][j]\n",
    "        cell_center = (j * cell_width + cell_width // 2, i * cell_height + cell_height // 2)\n",
    "        if 5 <= i <= 7 and 5 <= j <= 7:\n",
    "            row_representation.append('X')\n",
    "        elif cell_center in positions:\n",
    "            if (i, j) in number_data_cropped_4:\n",
    "                row_representation.append(f\"({number_data_cropped_4[(i, j)]}G)\")\n",
    "            else:\n",
    "                row_representation.append('G')\n",
    "        elif is_black(cell):\n",
    "            row_representation.append('X')\n",
    "        elif (i, j) in number_data_cropped_4:\n",
    "            row_representation.append(f\"({number_data_cropped_4[(i, j)]})\")\n",
    "        else:\n",
    "            row_representation.append('O')\n",
    "    crossword_textual_final.append(\"\".join(row_representation))\n",
    "\n",
    "crossword_textual_representation_final = \"\\n\".join(crossword_textual_final)\n",
    "print(crossword_textual_representation_final)\n"
   ],
   "metadata": {
    "collapsed": false,
    "ExecuteTime": {
     "end_time": "2023-09-13T05:23:23.396601Z",
     "start_time": "2023-09-13T05:23:01.144396Z"
    }
   },
   "id": "c16ec283b28059aa"
  },
  {
   "cell_type": "code",
   "execution_count": null,
   "outputs": [],
   "source": [
    "# Example Usage\n",
    "image_path = 'path_to_crossword_image.png'\n",
    "across_hints, down_hints = extract_hints_from_image(image_path)\n",
    "print(\"Across Hints:\\n\", across_hints)\n",
    "print(\"\\nDown Hints:\\n\", down_hints)\n",
    "\n",
    "green_square_positions = detect_green_squares_and_overlay(crossword_path)\n",
    "print(\"\\nPositions of green squares:\", green_square_positions)\n"
   ],
   "metadata": {
    "collapsed": false
   },
   "id": "e42c7d308f05fdbb"
  },
  {
   "cell_type": "markdown",
   "source": [
    "The final bit attempts to feed the summarized text data above into GPT-4 and prompt it to resolve the puzzle and return the characters that correspond to the green letters"
   ],
   "metadata": {
    "collapsed": false
   },
   "id": "8d2ec58d0af8ee13"
  },
  {
   "cell_type": "code",
   "execution_count": null,
   "outputs": [],
   "source": [],
   "metadata": {
    "collapsed": false
   },
   "id": "267dd4eeabcfaced"
  }
 ],
 "metadata": {
  "kernelspec": {
   "display_name": "Python 3",
   "language": "python",
   "name": "python3"
  },
  "language_info": {
   "codemirror_mode": {
    "name": "ipython",
    "version": 2
   },
   "file_extension": ".py",
   "mimetype": "text/x-python",
   "name": "python",
   "nbconvert_exporter": "python",
   "pygments_lexer": "ipython2",
   "version": "2.7.6"
  }
 },
 "nbformat": 4,
 "nbformat_minor": 5
}
