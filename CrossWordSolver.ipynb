{
 "cells": [
  {
   "cell_type": "markdown",
   "source": [
    " Import statements"
   ],
   "metadata": {
    "collapsed": false
   },
   "id": "9ddb53accf76a1e2"
  },
  {
   "cell_type": "code",
   "execution_count": 16,
   "outputs": [],
   "source": [
    "import cv2\n",
    "from pytesseract import image_to_string\n",
    "from PIL import Image \n",
    "import numpy as np"
   ],
   "metadata": {
    "collapsed": false,
    "ExecuteTime": {
     "end_time": "2023-09-13T04:54:54.807513Z",
     "start_time": "2023-09-13T04:54:54.797420Z"
    }
   },
   "id": "initial_id"
  },
  {
   "cell_type": "markdown",
   "source": [
    "This bit separates the crossword itself from the screenshot as grid.png"
   ],
   "metadata": {
    "collapsed": false
   },
   "id": "139d6f6a1ddd324a"
  },
  {
   "cell_type": "code",
   "execution_count": 8,
   "outputs": [
    {
     "name": "stdout",
     "output_type": "stream",
     "text": [
      "(32, 25, 730, 735)\n"
     ]
    }
   ],
   "source": [
    "#Where is our image?\n",
    "image_path = 'Screenshot.png'\n",
    "\n",
    "#Preparing for cropping\n",
    "im = cv2.imread(image_path)\n",
    "im = cv2.cvtColor(im, cv2.COLOR_BGR2GRAY)\n",
    "im = cv2.GaussianBlur(im, (5, 5), 0)\n",
    "im = cv2.adaptiveThreshold(im, 255, cv2.ADAPTIVE_THRESH_GAUSSIAN_C, cv2.THRESH_BINARY, 9, 4)\n",
    "cv2.imwrite(\"preprocess.jpg\", im)\n",
    "\n",
    "# Grid is the largest contour\n",
    "contours, _ = cv2.findContours(im, cv2.RETR_LIST, cv2.CHAIN_APPROX_SIMPLE)\n",
    "max_area = -1\n",
    "max_idx = -1\n",
    "for i, contour in enumerate(contours):\n",
    "    area = cv2.contourArea(contour)\n",
    "    if max_area < area < (im.shape[0] * im.shape[1] / 2):\n",
    "        max_area = area\n",
    "        max_idx = i\n",
    "\n",
    "#Saving grid.png\n",
    "rect = cv2.boundingRect(contours[max_idx])\n",
    "print(rect)\n",
    "Image.open(image_path).crop((rect[0], rect[1], rect[0] + rect[2], rect[1] + rect[3])).save(\"grid.png\")\n"
   ],
   "metadata": {
    "collapsed": false,
    "ExecuteTime": {
     "end_time": "2023-09-13T02:47:51.649598Z",
     "start_time": "2023-09-13T02:47:51.510346Z"
    }
   },
   "id": "c2c60e5341d3f90f"
  },
  {
   "cell_type": "markdown",
   "source": [
    "Crossword hint extraction"
   ],
   "metadata": {
    "collapsed": false
   },
   "id": "14ba1cbda74ca2c7"
  },
  {
   "cell_type": "code",
   "execution_count": null,
   "outputs": [],
   "source": [
    "def extract_hints_from_image(image_path):\n",
    "    # Load the image\n",
    "    image = cv2.imread(image_path)\n",
    "    \n",
    "    # Convert the image to grayscale for OCR\n",
    "    gray = cv2.cvtColor(image, cv2.COLOR_BGR2GRAY)\n",
    "    \n",
    "    # Use pytesseract to extract text from the image\n",
    "    extracted_text = str(image_to_string(gray))\n",
    "    \n",
    "    # Only consider text after \"Prize crossword\"\n",
    "    if \"Prize crossword\" in extracted_text:\n",
    "        extracted_text = extracted_text.split(\"Prize crossword\")[1].strip()\n",
    "    \n",
    "    # Split the text based on 'Across' and 'Down' to separate the hints\n",
    "    across_hints, down_hints = extracted_text.split(\"DOWN\")\n",
    "    across_hints = across_hints.replace(\"ACROSS\", \"\").strip()\n",
    "\n",
    "    return across_hints, down_hints\n",
    "\n",
    "extract_hints_from_image(image_path)"
   ],
   "metadata": {
    "collapsed": false
   },
   "id": "ed525839a2f78cff"
  },
  {
   "cell_type": "markdown",
   "source": [
    "This bit finds the green squares and gets coordinates for them\n",
    "## Do we need this?"
   ],
   "metadata": {
    "collapsed": false
   },
   "id": "237a96f11c7927f6"
  },
  {
   "cell_type": "code",
   "execution_count": 15,
   "outputs": [
    {
     "name": "stdout",
     "output_type": "stream",
     "text": [
      "<class 'list'>\n",
      "[(308, 703), (85, 591), (587, 422), (252, 254), (29, 29)]\n"
     ]
    },
    {
     "data": {
      "text/plain": "[(308, 703), (85, 591), (587, 422), (252, 254), (29, 29)]"
     },
     "execution_count": 15,
     "metadata": {},
     "output_type": "execute_result"
    }
   ],
   "source": [
    "crossword_path = 'grid.png'\n",
    "\n",
    "def detect_green_squares_and_overlay(crossword_path):\n",
    "    # Load the image\n",
    "    image = cv2.imread(crossword_path)\n",
    "    \n",
    "    # Convert to HSV for color-based detection\n",
    "    hsv = cv2.cvtColor(image, cv2.COLOR_BGR2HSV)\n",
    "    \n",
    "    # Define range for green color\n",
    "    lower_green = (40, 25, 25)\n",
    "    upper_green = (45, 255,255)\n",
    "\n",
    "    \n",
    "    # Threshold the HSV image to get only green colors\n",
    "    mask = cv2.inRange(hsv, lower_green, upper_green)\n",
    "    \n",
    "    # Convert the binary mask to a 3-channel image\n",
    "    mask_colored = cv2.cvtColor(mask, cv2.COLOR_GRAY2BGR)\n",
    "    \n",
    "    # Overlay the mask on the original image\n",
    "    alpha = 0.5  # Define the opacity for overlay\n",
    "    overlay = cv2.addWeighted(image, 1 - alpha, mask_colored, alpha, 0)\n",
    "    \n",
    "    # Find contours to detect squares\n",
    "    contours, _ = cv2.findContours(mask, cv2.RETR_EXTERNAL, cv2.CHAIN_APPROX_SIMPLE)\n",
    "    \n",
    "    # Placeholder list to store positions of green squares\n",
    "    positions = []\n",
    "    \n",
    "    for contour in contours:\n",
    "        # Compute the center of the contour\n",
    "        M = cv2.moments(contour)\n",
    "        if M[\"m00\"] != 0:\n",
    "            cX = int(M[\"m10\"] / M[\"m00\"])\n",
    "            cY = int(M[\"m01\"] / M[\"m00\"])\n",
    "            \n",
    "            # Ignore the center element (based on contour area, adjust the threshold as needed)\n",
    "            if cv2.contourArea(contour) < 5000:  # 5000 is an example threshold, adjust as necessary\n",
    "                positions.append((cX, cY))\n",
    "                \n",
    "                # Draw a circle at the detected position on the overlay\n",
    "                cv2.circle(overlay, (cX, cY), 5, (0, 0, 255), -1)  # Drawing in red for visibility\n",
    "\n",
    "    # Display the overlay\n",
    "    cv2.imshow(\"Overlay\", overlay)\n",
    "    cv2.waitKey(0)\n",
    "    cv2.destroyAllWindows()\n",
    "    \n",
    "    print(type(positions))\n",
    "    print(positions)\n",
    "    return positions\n",
    "    \n",
    "\n",
    "detect_green_squares_and_overlay(crossword_path)\n",
    "\n"
   ],
   "metadata": {
    "collapsed": false,
    "ExecuteTime": {
     "end_time": "2023-09-13T04:04:52.267261Z",
     "start_time": "2023-09-13T04:04:51.455303Z"
    }
   },
   "id": "d6dd8abda495274b"
  },
  {
   "cell_type": "markdown",
   "source": [
    "Experimental bit with the following steps:\n",
    "1. Use contours to detect every square\n",
    "2. Get coordinates for every square\n",
    "3. Based on squares per X coordinates+-2/3 get the size and shape of grid\n",
    "4. Read contents of every square one by one, and based on findings append symbol to matrix\n",
    "5. Return matrix"
   ],
   "metadata": {
    "collapsed": false
   },
   "id": "65b7d7e77a5028c9"
  },
  {
   "cell_type": "code",
   "execution_count": 22,
   "outputs": [
    {
     "data": {
      "text/plain": "[['G', 'O', 'O', 'O', 'O', 'O', 'X', 'O', 'O', 'O', 'O', 'O', 'O'],\n ['O', 'X', 'O', 'X', 'X', 'O', 'O', 'O', 'X', 'O', 'X', 'O', 'X'],\n ['O', 'O', 'O', 'O', 'O', 'O', 'X', 'O', 'X', 'O', 'O', 'O', 'O'],\n ['O', 'X', 'X', 'O', 'X', 'O', 'X', 'O', 'X', 'O', 'X', 'O', 'X'],\n ['X', 'O', 'X', 'O', 'G', 'O', 'O', 'O', 'O', 'O', 'X', 'O', 'X'],\n ['O', 'O', 'O', 'O', 'O', 'G', 'G', 'G', 'O', 'O', 'O', 'O', 'O'],\n ['X', 'O', 'X', 'X', 'O', 'G', 'G', 'O', 'O', 'X', 'X', 'O', 'X'],\n ['O', 'O', 'O', 'O', 'O', 'G', 'G', 'O', 'O', 'O', 'G', 'O', 'O'],\n ['X', 'O', 'X', 'O', 'O', 'O', 'O', 'O', 'O', 'O', 'X', 'O', 'X'],\n ['X', 'O', 'X', 'O', 'X', 'O', 'X', 'O', 'X', 'O', 'X', 'X', 'O'],\n ['O', 'G', 'O', 'O', 'X', 'O', 'X', 'O', 'O', 'O', 'O', 'O', 'O'],\n ['X', 'O', 'X', 'O', 'X', 'O', 'O', 'O', 'X', 'X', 'O', 'X', 'O'],\n ['O', 'O', 'O', 'O', 'O', 'G', 'X', 'O', 'O', 'O', 'O', 'O', 'O']]"
     },
     "execution_count": 22,
     "metadata": {},
     "output_type": "execute_result"
    }
   ],
   "source": [
    "import cv2\n",
    "import numpy as np\n",
    "import os\n",
    "\n",
    "# Load the image\n",
    "img = cv2.imread('grid.png')\n",
    "\n",
    "# Convert to grayscale\n",
    "gray = cv2.cvtColor(img, cv2.COLOR_BGR2GRAY)\n",
    "\n",
    "# Apply adaptive thresholding\n",
    "adaptive_thresh = cv2.adaptiveThreshold(gray, 255, cv2.ADAPTIVE_THRESH_GAUSSIAN_C, cv2.THRESH_BINARY_INV, 11, 2)\n",
    "\n",
    "# Use morphological operations to clean up the image\n",
    "kernel = np.ones((5, 5), np.uint8)\n",
    "cleaned_thresh = cv2.morphologyEx(adaptive_thresh, cv2.MORPH_CLOSE, kernel)\n",
    "\n",
    "# Divide the image into a 13x13 grid to get the coordinates of each cell\n",
    "cell_width = img.shape[1] // 13\n",
    "cell_height = img.shape[0] // 13\n",
    "grid_coordinates = [(j*cell_width, i*cell_height, cell_width, cell_height) for i in range(13) for j in range(13)]\n",
    "\n",
    "# Analyze each cell to determine its type (black, white, numbered, green)\n",
    "# Function to determine the content of a square based on its mean pixel value and presence of small details (numbers)\n",
    "def determine_square_content_v2(roi_gray, roi_thresh):\n",
    "    mean_val = np.mean(roi_gray)\n",
    "    \n",
    "    # Calculate the ratio of white pixels in the thresholded ROI\n",
    "    white_ratio = np.sum(roi_thresh == 255) / (roi_thresh.shape[0] * roi_thresh.shape[1])\n",
    "    \n",
    "    # If the mean value is low and the white ratio is low, it's likely a black square\n",
    "    if mean_val < 50 and white_ratio < 0.2:\n",
    "        return 'X'\n",
    "    # If the mean value is high and the white ratio is high, it's a white square\n",
    "    elif mean_val > 200 and white_ratio > 0.75:\n",
    "        # Check for numbers in the square\n",
    "        contours, _ = cv2.findContours(roi_thresh, cv2.RETR_EXTERNAL, cv2.CHAIN_APPROX_SIMPLE)\n",
    "        if contours and cv2.contourArea(max(contours, key=cv2.contourArea)) < 0.15 * roi_thresh.size:\n",
    "            return \"(num)\"  # Placeholder for numbered square\n",
    "        else:\n",
    "            return 'O'\n",
    "    # If the mean value is between the thresholds, it's likely a green square\n",
    "    else:\n",
    "        # Check for numbers in the green square\n",
    "        contours, _ = cv2.findContours(roi_thresh, cv2.RETR_EXTERNAL, cv2.CHAIN_APPROX_SIMPLE)\n",
    "        if contours and cv2.contourArea(max(contours, key=cv2.contourArea)) < 0.15 * roi_thresh.size:\n",
    "            return \"(numG)\"  # Placeholder for numbered green square\n",
    "        else:\n",
    "            return 'G'\n",
    "\n",
    "text_matrix = []\n",
    "row = []\n",
    "for i, coord in enumerate(grid_coordinates):\n",
    "    x, y, w, h = coord\n",
    "    roi_gray = gray[y:y+h, x:x+w]\n",
    "    _, roi_thresh = cv2.threshold(roi_gray, 127, 255, cv2.THRESH_BINARY)\n",
    "    content = determine_square_content_v2(roi_gray, roi_thresh)\n",
    "    row.append(content)\n",
    "    # Check if we've processed 13 squares (one row)\n",
    "    if (i + 1) % 13 == 0:\n",
    "        text_matrix.append(row)\n",
    "        row = []\n",
    "\n",
    "text_matrix\n"
   ],
   "metadata": {
    "collapsed": false,
    "ExecuteTime": {
     "end_time": "2023-09-15T03:07:28.279734Z",
     "start_time": "2023-09-15T03:07:28.236837Z"
    }
   },
   "id": "d02f9c4c8c4271ae"
  },
  {
   "cell_type": "markdown",
   "source": [
    "This saves every single cell as a separate image for OCR"
   ],
   "metadata": {
    "collapsed": false
   },
   "id": "ea68ec247dd36033"
  },
  {
   "cell_type": "code",
   "execution_count": null,
   "outputs": [],
   "source": [
    "# Function to save every single square except the middle 3x3 squares\n",
    "save_dir = \"numbered_squares/\"\n",
    "def save_all_squares(img, coords):\n",
    "    saved_files_all = []  # To keep track of saved files\n",
    "    for i in range(13):\n",
    "        for j in range(13):\n",
    "            # Ignoring the middle 3x3 squares\n",
    "            if 5 <= i <= 7 and 5 <= j <= 7:\n",
    "                continue\n",
    "            idx = i*13 + j\n",
    "            x, y, w, h = coords[idx]\n",
    "            roi = img[y:y+h, x:x+w]\n",
    "            \n",
    "            # Using direct string concatenation for filename\n",
    "            filename = save_dir + f\"all_squares_{i}_{j}.png\"\n",
    "            \n",
    "            # Attempt to save the image and raise an exception if saving fails\n",
    "            if not cv2.imwrite(filename, roi):\n",
    "                raise Exception(f\"Could not write image at position {i}, {j} to {filename}\")\n",
    "            \n",
    "            saved_files_all.append(filename)\n",
    "    return saved_files_all  # Return the list of saved files\n",
    "\n",
    "\n",
    "# Save every square except the middle 3x3 ones\n",
    "saved_files_all = save_all_squares(img, grid_coordinates)\n",
    "\n",
    "saved_files_all  # Display the first 5 saved file paths for verification\n"
   ],
   "metadata": {
    "collapsed": false
   },
   "id": "5809998f51ce61f9"
  },
  {
   "cell_type": "markdown",
   "source": [
    "This generates the OCR matrix with numbers and their locations"
   ],
   "metadata": {
    "collapsed": false
   },
   "id": "b580f97bc9201a63"
  },
  {
   "cell_type": "code",
   "execution_count": 21,
   "outputs": [
    {
     "name": "stdout",
     "output_type": "stream",
     "text": [
      "1\n",
      "2\n",
      "\n",
      "3\n",
      "\n",
      "4\n",
      "\n",
      "5\n",
      "\n",
      "6\n",
      "\n",
      "\n",
      "\n",
      "7\n",
      "\n",
      "\n",
      "\n",
      "8\n",
      "\n",
      "9\n",
      "\n",
      "\n",
      "\n",
      "10\n",
      "\n",
      "\n",
      "\n",
      "\n",
      "\n",
      "\n",
      "\n",
      "\n",
      "\n",
      "11\n",
      "\n",
      "12\n",
      "13\n",
      "\n",
      "14\n",
      "\n",
      "\n",
      "15\n",
      "\n",
      "\n",
      "16\n",
      "\n",
      "\n",
      "\n",
      "\n",
      "\n",
      "\n",
      "\n",
      "17\n",
      "\n",
      "18\n",
      "19\n",
      "20\n",
      "\n",
      "\n",
      "\n",
      "21\n",
      "22\n",
      "23\n",
      "\n",
      "\n",
      "\n",
      "\n",
      "\n",
      "\n",
      "\n",
      "\n",
      "24\n",
      "25\n",
      "\n",
      "\n",
      "\n",
      "26\n",
      "\n",
      "27\n",
      "\n",
      "\n",
      "\n",
      "\n",
      "28\n",
      "\n",
      "\n",
      "\n",
      "\n",
      "29\n",
      "\n",
      "\n",
      "\n",
      "30\n",
      "\n",
      "\n",
      "\n",
      "[1, 0, 2, 0, 0, 3, 0, 4, 0, 5, 0, 6, 0]\n",
      "[0, 0, 0, 0, 0, 7, 0, 0, 0, 0, 0, 0, 0]\n",
      "[8, 0, 0, 9, 0, 0, 0, 0, 0, 10, 0, 0, 0]\n",
      "[0, 0, 0, 0, 0, 0, 0, 0, 0, 0, 0, 0, 0]\n",
      "[0, 11, 0, 12, 13, 0, 0, 0, 14, 0, 0, 0, 0]\n",
      "[15, 0, 0, 0, 0, 'X', 'X', 'X', 16, 0, 0, 0, 0]\n",
      "[0, 0, 0, 0, 0, 'X', 'X', 'X', 0, 0, 0, 0, 0]\n",
      "[17, 0, 0, 18, 0, 'X', 'X', 'X', 19, 20, 0, 0, 0]\n",
      "[0, 0, 0, 21, 0, 22, 0, 23, 0, 0, 0, 0, 0]\n",
      "[0, 0, 0, 0, 0, 0, 0, 0, 0, 0, 0, 0, 24]\n",
      "[25, 0, 0, 0, 0, 0, 0, 26, 0, 0, 27, 0, 0]\n",
      "[0, 0, 0, 0, 0, 28, 0, 0, 0, 0, 0, 0, 0]\n",
      "[29, 0, 0, 0, 0, 0, 0, 30, 0, 0, 0, 0, 0]\n"
     ]
    }
   ],
   "source": [
    "import pytesseract\n",
    "from PIL import Image\n",
    "\n",
    "# Initialize the matrix\n",
    "ocr_matrix = [[0 for _ in range(13)] for _ in range(13)]\n",
    "\n",
    "# Process saved squares using pytesseract\n",
    "for i in range(13):\n",
    "    for j in range(13):\n",
    "        # Skip the middle 3x3 squares\n",
    "        if 5 <= i <= 7 and 5 <= j <= 7:\n",
    "            ocr_matrix[i][j] = 'X'\n",
    "            continue\n",
    "        \n",
    "        filename = f\"numbered_squares/all_squares_{i}_{j}.png\"\n",
    "        \n",
    "        # Open the image and pre-crop it\n",
    "        image = Image.open(filename)\n",
    "        cropped_image = image.crop((4, 3, 25, 27))\n",
    "        \n",
    "        # Use pytesseract to extract text from the cropped image\n",
    "        result = pytesseract.image_to_string(cropped_image, config='--psm 6').strip()\n",
    "        print(result)\n",
    "        # If a number is detected, update the matrix with that number\n",
    "        if result.isdigit():\n",
    "            ocr_matrix[i][j] = int(result)\n",
    "\n",
    "# Print the resulting matrix\n",
    "for row in ocr_matrix:\n",
    "    print(row)\n"
   ],
   "metadata": {
    "collapsed": false,
    "ExecuteTime": {
     "end_time": "2023-09-15T03:03:21.961961Z",
     "start_time": "2023-09-15T03:03:00.195724Z"
    }
   },
   "id": "3608b82799517ea0"
  },
  {
   "cell_type": "markdown",
   "source": [
    "This will join them together\n",
    "## Testing still"
   ],
   "metadata": {
    "collapsed": false
   },
   "id": "f0006becec174272"
  },
  {
   "cell_type": "code",
   "execution_count": 39,
   "outputs": [
    {
     "name": "stdout",
     "output_type": "stream",
     "text": [
      "[['(1G)', 'O', '(2)', 'O', 'O', '(3)', 'X', '(4)', 'O', '(5)', 'O', '(6)', 'O'], ['O', 'X', 'O', 'X', 'X', '(7)', 'O', 'O', 'X', 'O', 'X', 'O', 'X'], ['(8)', 'O', 'O', '(9)', 'O', 'O', 'X', 'O', 'X', '(10)', 'O', 'O', 'O'], ['O', 'X', 'X', 'O', 'X', 'O', 'X', 'O', 'X', 'O', 'X', 'O', 'X'], ['X', '(11)', 'X', '(12)', 'X', 'X', 'X', 'O', '(14)', 'O', 'X', 'O', 'X'], ['(15)', 'O', 'O', 'O', 'X', 'X', 'X', '(XG)', '(16)', 'O', 'O', 'O', 'O'], ['X', 'O', 'X', 'X', 'X', 'X', 'X', '(X)', 'O', 'X', 'X', 'O', 'X'], ['(17)', 'O', 'O', '(18)', 'O', '(XG)', '(XG)', '(X)', '(19)', '(20)', 'G', 'O', 'O'], ['X', 'O', 'X', '(21)', 'O', '(22)', 'O', '(23)', 'O', 'O', 'X', 'O', 'X'], ['X', 'O', 'X', 'O', 'X', 'O', 'X', 'O', 'X', 'O', 'X', 'X', '(24)'], ['(25)', 'G', 'O', 'O', 'X', 'O', 'X', '(26)', 'O', 'O', '(27)', 'O', 'O'], ['X', 'O', 'X', 'O', 'X', '(28)', 'O', 'O', 'X', 'X', 'O', 'X', 'O'], ['(29)', 'O', 'O', 'O', 'O', 'G', 'X', '(30)', 'O', 'O', 'O', 'O', 'O']]\n"
     ]
    }
   ],
   "source": [
    "# print(text_matrix)\n",
    "# \n",
    "# print('SPAAAAAAAACE')\n",
    "# \n",
    "# print(ocr_matrix)\n",
    "\n",
    "# Create a deep copy of text_matrix to avoid modifying the original matrix\n",
    "combined_text_matrix = [row.copy() for row in text_matrix]\n",
    "\n",
    "# Modified merging approach based on the updated requirements\n",
    "for i in range(13):\n",
    "    for j in range(13):\n",
    "        # For the central 3x3 grid, always \"X\"\n",
    "        if 4 <= i <= 6 and 4 <= j <= 6:\n",
    "            combined_text_matrix[i][j] = \"X\"\n",
    "        # For white squares with numbers\n",
    "        elif combined_text_matrix[i][j] == \"O\" and ocr_matrix[i][j] != 0:\n",
    "            combined_text_matrix[i][j] = f\"({ocr_matrix[i][j]})\"\n",
    "        # For green squares with numbers\n",
    "        elif combined_text_matrix[i][j] == \"G\" and ocr_matrix[i][j] != 0:\n",
    "            combined_text_matrix[i][j] = f\"({ocr_matrix[i][j]}G)\"\n",
    "        # For green squares without numbers\n",
    "        elif combined_text_matrix[i][j] == \"G\" and ocr_matrix[i][j] == 0:\n",
    "            combined_text_matrix[i][j] = \"G\"\n",
    "        # For black squares\n",
    "        elif combined_text_matrix[i][j] == \"X\":\n",
    "            combined_text_matrix[i][j] = \"X\"\n",
    "\n",
    "print(combined_text_matrix)\n",
    "\n",
    "\n",
    "\n",
    "intended_matrix = [\n",
    "    ['(1G)', 'O', '(2)', 'O', 'O', '(3)', 'X', '(4)', 'O', '(5)', 'O', '(6)', 'O'],\n",
    "    ['O', 'X', 'O', 'X', 'X', '(7)', 'O', 'O', 'X', 'O', 'X', 'O', 'X'],\n",
    "    ['(8)', 'O', 'O', '(9)', 'O', 'O', 'X', 'O', 'X', 'O', 'X', '(10)', 'O'],\n",
    "    ['O', 'X', 'X', 'O', 'X', 'O', 'X', 'O', 'X', 'O', 'X', 'O', 'X'],\n",
    "    ['X', '(11)', 'X', '(12)', '(13G)', 'O', 'O', 'O', '(14)', 'O', 'X', 'O', 'X'],\n",
    "    ['(15)', 'O', 'O', 'O', 'O', 'X', 'X', 'X', '(16)', 'O', 'O', 'O', 'O'],\n",
    "    ['X', 'O', 'X', 'X', 'O', 'X', 'X', 'X', 'O', 'X', 'X', 'O', 'X'],\n",
    "    ['(17)', 'O', 'O', '(18)', 'O', 'X', 'X', 'X', '(19)', '(20)', 'G', 'O', 'O'],\n",
    "    ['X', 'O', 'X', '(21)', 'O', '(22)', 'O', '(23)', 'O', 'O', 'X', 'O', 'X'],\n",
    "    ['X', 'O', 'X', 'O', 'X', 'O', 'X', 'O', 'X', 'O', 'X', 'X', '(24)'],\n",
    "    ['(25)', 'G', 'O', 'O', 'X', 'O', 'X', 'O', '(26)', 'O', 'O', '(27)', 'O'],\n",
    "    ['X', 'O', 'X', 'O', 'X', 'O', 'O', 'O', 'X', 'X', 'O', 'X', 'O'],\n",
    "    ['(29)', 'O', 'O', 'O', 'O', 'G', 'X', '(30)', 'O', 'O', 'O', 'O', 'O']\n",
    "]\n",
    "\n"
   ],
   "metadata": {
    "collapsed": false,
    "ExecuteTime": {
     "end_time": "2023-09-15T03:36:15.658182Z",
     "start_time": "2023-09-15T03:36:15.649923Z"
    }
   },
   "id": "6a7305fbccd7803a"
  },
  {
   "cell_type": "markdown",
   "source": [
    "This will test if our manually made matrix matches the automated matrix"
   ],
   "metadata": {
    "collapsed": false
   },
   "id": "abe95b3c6f148e87"
  },
  {
   "cell_type": "code",
   "execution_count": 41,
   "outputs": [
    {
     "name": "stdout",
     "output_type": "stream",
     "text": [
      "False\n",
      "Matrices are not identical.\n"
     ]
    }
   ],
   "source": [
    "def test_matrices(matrix1, matrix2):\n",
    "    for i in range(len(matrix1)):\n",
    "        for j in range(len(matrix1[0])):\n",
    "            if matrix1[i][j] != matrix2[i][j]:\n",
    "                return False\n",
    "    return True\n",
    "\n",
    "# Test\n",
    "result = test_matrices(combined_text_matrix, intended_matrix)\n",
    "print(result)\n",
    "print(\"Matrices are identical:\" if result else \"Matrices are not identical.\")\n"
   ],
   "metadata": {
    "collapsed": false,
    "ExecuteTime": {
     "end_time": "2023-09-15T03:38:02.536058Z",
     "start_time": "2023-09-15T03:38:02.520889Z"
    }
   },
   "id": "ab1babf40b61a8e9"
  },
  {
   "cell_type": "markdown",
   "source": [
    "Comparing matrices to see what's up"
   ],
   "metadata": {
    "collapsed": false
   },
   "id": "52b804c8843327a3"
  },
  {
   "cell_type": "code",
   "execution_count": 42,
   "outputs": [
    {
     "name": "stdout",
     "output_type": "stream",
     "text": [
      "Coordinates: (2, 9)\n",
      "combined_text_matrix value: (10)\n",
      "intended_matrix value: O\n",
      "--------------------\n",
      "Coordinates: (2, 10)\n",
      "combined_text_matrix value: O\n",
      "intended_matrix value: X\n",
      "--------------------\n",
      "Coordinates: (2, 11)\n",
      "combined_text_matrix value: O\n",
      "intended_matrix value: (10)\n",
      "--------------------\n",
      "Coordinates: (4, 4)\n",
      "combined_text_matrix value: X\n",
      "intended_matrix value: (13G)\n",
      "--------------------\n",
      "Coordinates: (4, 5)\n",
      "combined_text_matrix value: X\n",
      "intended_matrix value: O\n",
      "--------------------\n",
      "Coordinates: (4, 6)\n",
      "combined_text_matrix value: X\n",
      "intended_matrix value: O\n",
      "--------------------\n",
      "Coordinates: (5, 4)\n",
      "combined_text_matrix value: X\n",
      "intended_matrix value: O\n",
      "--------------------\n",
      "Coordinates: (5, 7)\n",
      "combined_text_matrix value: (XG)\n",
      "intended_matrix value: X\n",
      "--------------------\n",
      "Coordinates: (6, 4)\n",
      "combined_text_matrix value: X\n",
      "intended_matrix value: O\n",
      "--------------------\n",
      "Coordinates: (6, 7)\n",
      "combined_text_matrix value: (X)\n",
      "intended_matrix value: X\n",
      "--------------------\n",
      "Coordinates: (7, 5)\n",
      "combined_text_matrix value: (XG)\n",
      "intended_matrix value: X\n",
      "--------------------\n",
      "Coordinates: (7, 6)\n",
      "combined_text_matrix value: (XG)\n",
      "intended_matrix value: X\n",
      "--------------------\n",
      "Coordinates: (7, 7)\n",
      "combined_text_matrix value: (X)\n",
      "intended_matrix value: X\n",
      "--------------------\n",
      "Coordinates: (10, 7)\n",
      "combined_text_matrix value: (26)\n",
      "intended_matrix value: O\n",
      "--------------------\n",
      "Coordinates: (10, 8)\n",
      "combined_text_matrix value: O\n",
      "intended_matrix value: (26)\n",
      "--------------------\n",
      "Coordinates: (10, 10)\n",
      "combined_text_matrix value: (27)\n",
      "intended_matrix value: O\n",
      "--------------------\n",
      "Coordinates: (10, 11)\n",
      "combined_text_matrix value: O\n",
      "intended_matrix value: (27)\n",
      "--------------------\n",
      "Coordinates: (11, 5)\n",
      "combined_text_matrix value: (28)\n",
      "intended_matrix value: O\n",
      "--------------------\n"
     ]
    }
   ],
   "source": [
    "def find_differences(matrix1, matrix2):\n",
    "    differences = []\n",
    "    \n",
    "    for i in range(len(matrix1)):\n",
    "        for j in range(len(matrix1[0])):\n",
    "            if matrix1[i][j] != matrix2[i][j]:\n",
    "                differences.append({\n",
    "                    \"coordinates\": (i, j),\n",
    "                    \"matrix1_value\": matrix1[i][j],\n",
    "                    \"matrix2_value\": matrix2[i][j]\n",
    "                })\n",
    "                \n",
    "    return differences\n",
    "\n",
    "differences = find_differences(combined_text_matrix, intended_matrix)\n",
    "\n",
    "for diff in differences:\n",
    "    print(f\"Coordinates: {diff['coordinates']}\")\n",
    "    print(f\"combined_text_matrix value: {diff['matrix1_value']}\")\n",
    "    print(f\"intended_matrix value: {diff['matrix2_value']}\")\n",
    "    print(\"--------------------\")\n"
   ],
   "metadata": {
    "collapsed": false,
    "ExecuteTime": {
     "end_time": "2023-09-15T03:39:28.042538Z",
     "start_time": "2023-09-15T03:39:28.027111Z"
    }
   },
   "id": "667bfc3b45c97e8d"
  },
  {
   "cell_type": "markdown",
   "source": [
    "TBC..."
   ],
   "metadata": {
    "collapsed": false
   },
   "id": "e25d6c6526225e13"
  },
  {
   "cell_type": "code",
   "execution_count": null,
   "outputs": [],
   "source": [],
   "metadata": {
    "collapsed": false
   },
   "id": "e42c7d308f05fdbb"
  },
  {
   "cell_type": "markdown",
   "source": [
    "The final bit attempts to feed the summarized text data above into GPT-4 and prompt it to resolve the puzzle and return the characters that correspond to the green letters"
   ],
   "metadata": {
    "collapsed": false
   },
   "id": "8d2ec58d0af8ee13"
  },
  {
   "cell_type": "code",
   "execution_count": null,
   "outputs": [],
   "source": [],
   "metadata": {
    "collapsed": false
   },
   "id": "267dd4eeabcfaced"
  },
  {
   "cell_type": "markdown",
   "source": [
    "Further development could be to add the 5 options from the Waitrose website and let GPT decide what the most likely fit is O...O"
   ],
   "metadata": {
    "collapsed": false
   },
   "id": "df2c4ab7b15a124d"
  },
  {
   "cell_type": "code",
   "execution_count": null,
   "outputs": [],
   "source": [],
   "metadata": {
    "collapsed": false
   },
   "id": "7f8aee70bc390091"
  },
  {
   "cell_type": "markdown",
   "source": [
    "Another thing would be to directly fetch the right page from the weekly magazine update,\n",
    "and then automatically submit the solution and autofill the data on the form"
   ],
   "metadata": {
    "collapsed": false
   },
   "id": "64f8f24eb829f52a"
  }
 ],
 "metadata": {
  "kernelspec": {
   "display_name": "Python 3",
   "language": "python",
   "name": "python3"
  },
  "language_info": {
   "codemirror_mode": {
    "name": "ipython",
    "version": 2
   },
   "file_extension": ".py",
   "mimetype": "text/x-python",
   "name": "python",
   "nbconvert_exporter": "python",
   "pygments_lexer": "ipython2",
   "version": "2.7.6"
  }
 },
 "nbformat": 4,
 "nbformat_minor": 5
}
